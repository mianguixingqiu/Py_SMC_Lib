{
 "cells": [
  {
   "cell_type": "code",
   "execution_count": 1,
   "metadata": {},
   "outputs": [],
   "source": [
    "from smc import SMCController##引用库"
   ]
  },
  {
   "cell_type": "code",
   "execution_count": 2,
   "metadata": {},
   "outputs": [
    {
     "data": {
      "text/plain": [
       "0"
      ]
     },
     "execution_count": 2,
     "metadata": {},
     "output_type": "execute_result"
    }
   ],
   "source": [
    "##一次性连接并使能一个轴\n",
    "smc = SMCController()\n",
    "# 初始化连接\n",
    "result = smc.board_init(0, 1, \"COM11\", 115200)\n",
    "# 执行其他操作\n",
    "smc.write_sevon_pin(0, 0,0)\n",
    "#smc.basic_run(0)\n",
    "# 关闭连接\n",
    "#smc.board_close(0)"
   ]
  },
  {
   "cell_type": "code",
   "execution_count": null,
   "metadata": {},
   "outputs": [
    {
     "name": "stdout",
     "output_type": "stream",
     "text": [
      "18\n",
      "_name\n",
      "_FuncPtr\n",
      "_handle\n",
      "smc_board_init\n",
      "smc_board_close\n",
      "smc_get_position_unit\n",
      "smc_write_sevon_pin\n",
      "smc_basic_run\n",
      "smc_basic_stop\n",
      "smc_set_home_profile_unit\n",
      "smc_set_home_position_unit\n",
      "smc_set_homemode\n",
      "smc_get_homemode\n",
      "smc_home_move\n",
      "smc_ptt_table_unit\n",
      "smc_pts_table_unit\n",
      "smc_pvt_move\n",
      "smc_t_pmove_extern_unit\n"
     ]
    }
   ],
   "source": [
    "####展示smc库目前已支持的函数\n",
    "functions=smc.smc_dll.__dict__.keys()\n",
    "print(len(functions))\n",
    "for function in functions:\n",
    "    print(function)\n"
   ]
  },
  {
   "cell_type": "code",
   "execution_count": 8,
   "metadata": {},
   "outputs": [],
   "source": [
    "#串口连接\n",
    "result = smc.board_init(0, 1, \"COM11\", 115200)"
   ]
  },
  {
   "cell_type": "code",
   "execution_count": 12,
   "metadata": {},
   "outputs": [
    {
     "data": {
      "text/plain": [
       "0"
      ]
     },
     "execution_count": 12,
     "metadata": {},
     "output_type": "execute_result"
    }
   ],
   "source": [
    "#使能0轴\n",
    "smc.write_sevon_pin(0, 0, 0)"
   ]
  },
  {
   "cell_type": "code",
   "execution_count": 21,
   "metadata": {},
   "outputs": [
    {
     "data": {
      "text/plain": [
       "0"
      ]
     },
     "execution_count": 21,
     "metadata": {},
     "output_type": "execute_result"
    }
   ],
   "source": [
    "#关闭0轴\n",
    "smc.write_sevon_pin(0, 0, 1) "
   ]
  },
  {
   "cell_type": "code",
   "execution_count": 17,
   "metadata": {},
   "outputs": [
    {
     "data": {
      "text/plain": [
       "(0, 0, 3.0, 0, 1)"
      ]
     },
     "execution_count": 17,
     "metadata": {},
     "output_type": "execute_result"
    }
   ],
   "source": [
    "# 按指定的方向和速度方式开始回原点\n",
    "smc.set_home_profile_unit(0,0,99,90000,1,1)\n",
    "smc.set_home_position_unit(0,0,1,0)\n",
    "smc.set_homemode(0,0,0,1,0,1)\n",
    "smc.home_move(0,0)\n",
    "smc.get_homemode(0,0)"
   ]
  },
  {
   "cell_type": "code",
   "execution_count": 13,
   "metadata": {},
   "outputs": [
    {
     "data": {
      "text/plain": [
       "0"
      ]
     },
     "execution_count": 13,
     "metadata": {},
     "output_type": "execute_result"
    }
   ],
   "source": [
    "#设置ptt运动参数\n",
    "ptime=[]\n",
    "ppos=[]\n",
    "for i in range(20):\n",
    "    ptime.append(i+1)\n",
    "    ppos.append(50000*(i+1))\n",
    "#ptime=[1,2,3,4,5,6,7,8,9,10,11,12,13,]\n",
    "#ppos=[10000,20000,30000]\n",
    "smc.ptt_table_unit(0,0,10,ptime,ppos)"
   ]
  },
  {
   "cell_type": "code",
   "execution_count": 18,
   "metadata": {},
   "outputs": [
    {
     "data": {
      "text/plain": [
       "0"
      ]
     },
     "execution_count": 18,
     "metadata": {},
     "output_type": "execute_result"
    }
   ],
   "source": [
    "#设置pts运动参数\n",
    "ptime=[0,1,2,3,4,5,6]\n",
    "ppos=[0,15000,55000,140000,380000,650000,680000]\n",
    "pper=[0,20,0,60,0,20,80]\n",
    "\n",
    "smc.pts_table_unit(0,0,7,ptime,ppos,pper)"
   ]
  },
  {
   "cell_type": "code",
   "execution_count": 20,
   "metadata": {},
   "outputs": [
    {
     "data": {
      "text/plain": [
       "0"
      ]
     },
     "execution_count": 20,
     "metadata": {},
     "output_type": "execute_result"
    }
   ],
   "source": [
    "#开始PVT运动\n",
    "smc.pvt_move(0,1,[0])   "
   ]
  },
  {
   "cell_type": "code",
   "execution_count": 29,
   "metadata": {},
   "outputs": [
    {
     "data": {
      "text/plain": [
       "(0, 1000000.0)"
      ]
     },
     "execution_count": 29,
     "metadata": {},
     "output_type": "execute_result"
    }
   ],
   "source": [
    "#读取指令计数器值\n",
    "smc.get_position_unit(0,0)"
   ]
  },
  {
   "cell_type": "code",
   "execution_count": null,
   "metadata": {},
   "outputs": [],
   "source": [
    "#运行ram中的basic程序\n",
    "smc.basic_run(0)"
   ]
  },
  {
   "cell_type": "code",
   "execution_count": null,
   "metadata": {},
   "outputs": [],
   "source": [
    "#停止运行basic程序\n",
    "smc.basic_stop(0)"
   ]
  },
  {
   "cell_type": "code",
   "execution_count": 22,
   "metadata": {},
   "outputs": [
    {
     "data": {
      "text/plain": [
       "0"
      ]
     },
     "execution_count": 22,
     "metadata": {},
     "output_type": "execute_result"
    }
   ],
   "source": [
    "#断开0号控制器的连接\n",
    "smc.board_close(0)"
   ]
  }
 ],
 "metadata": {
  "kernelspec": {
   "display_name": "QT6",
   "language": "python",
   "name": "qt6"
  },
  "language_info": {
   "codemirror_mode": {
    "name": "ipython",
    "version": 3
   },
   "file_extension": ".py",
   "mimetype": "text/x-python",
   "name": "python",
   "nbconvert_exporter": "python",
   "pygments_lexer": "ipython3",
   "version": "3.9.13"
  }
 },
 "nbformat": 4,
 "nbformat_minor": 2
}
