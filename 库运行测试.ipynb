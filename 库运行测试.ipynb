{
 "cells": [
  {
   "cell_type": "code",
   "execution_count": 1,
   "metadata": {},
   "outputs": [],
   "source": [
    "from smc import SMCController##引用库"
   ]
  },
  {
   "cell_type": "code",
   "execution_count": 2,
   "metadata": {},
   "outputs": [],
   "source": [
    "import time\n",
    "import matplotlib.pyplot as plt"
   ]
  },
  {
   "cell_type": "code",
   "execution_count": 7,
   "metadata": {},
   "outputs": [
    {
     "data": {
      "text/plain": [
       "0"
      ]
     },
     "execution_count": 7,
     "metadata": {},
     "output_type": "execute_result"
    }
   ],
   "source": [
    "##一次性连接并使能一个轴\n",
    "smc = SMCController()\n",
    "# 初始化连接\n",
    "result = smc.board_init(0, 1, \"COM3\", 115200)\n",
    "# 执行其他操作\n",
    "smc.write_sevon_pin(0, 0,0)\n",
    "#smc.basic_run(0)\n",
    "# 关闭连接\n",
    "#smc.board_close(0)"
   ]
  },
  {
   "cell_type": "code",
   "execution_count": 42,
   "metadata": {},
   "outputs": [
    {
     "data": {
      "text/plain": [
       "0"
      ]
     },
     "execution_count": 42,
     "metadata": {},
     "output_type": "execute_result"
    }
   ],
   "source": [
    "#connect_no:指定链接号，0-254，默认0\n",
    "#axis:指定轴号，0-（控制器最大轴数-1）\n",
    "#el_enable:EL信号的使能状态：0正负限位禁止；1正负限位允许、2正限位禁止、负限位允许；3正负限位允许、负限位禁止\n",
    "#el_logic:EL信号的逻辑状态：0正负限位低电平有效，1：正负限位高电平有效；2正限位低有效，负限位高有效；3正限位高有效，负限位低有效\n",
    "#el_mode:EL制动方式：0：正负限位立即停止；1：正负限位减速停止；2：正限位立即停止；3：正限位立即停止、负限位减速停止；4：正限位减速停止、负限位立即停止\n",
    "#适用范围：脉冲型全系列控制器\n",
    "#开关接在EL0和EGND中间\n",
    "#smc.set_el_mode(0,0,2,0,0)#回原点运动，会触发反向运动\n",
    "#smc.set_el_mode(0,0,2,1,0)#正向vmove运动，\n",
    "smc.set_el_mode(0,0,3,0,0)#\n",
    "#home()"
   ]
  },
  {
   "cell_type": "code",
   "execution_count": 3,
   "metadata": {},
   "outputs": [
    {
     "name": "stdout",
     "output_type": "stream",
     "text": [
      "28\n",
      "_name\n",
      "_FuncPtr\n",
      "_handle\n",
      "smc_board_init\n",
      "smc_board_close\n",
      "smc_get_position_unit\n",
      "smc_write_sevon_pin\n",
      "smc_basic_run\n",
      "smc_basic_stop\n",
      "smc_set_home_profile_unit\n",
      "smc_set_home_position_unit\n",
      "smc_set_homemode\n",
      "smc_get_homemode\n",
      "smc_home_move\n",
      "smc_set_el_mode\n",
      "smc_get_el_mode\n",
      "smc_ptt_table_unit\n",
      "smc_pts_table_unit\n",
      "smc_pvt_move\n",
      "smc_t_pmove_extern_unit\n",
      "smc_set_profile_unit\n",
      "smc_set_s_profile\n",
      "smc_vmove\n",
      "smc_sine_oscillate_set_mode\n",
      "smc_sine_oscillate_get_mode\n",
      "smc_sine_oscillate_unit\n",
      "smc_sine_oscillate_stop\n",
      "smc_stop\n"
     ]
    }
   ],
   "source": [
    "####展示smc库目前已支持的函数\n",
    "functions=SMCController().smc_dll.__dict__.keys()\n",
    "print(len(functions))\n",
    "for function in functions:\n",
    "    print(function)\n"
   ]
  },
  {
   "cell_type": "code",
   "execution_count": null,
   "metadata": {},
   "outputs": [],
   "source": [
    "#串口连接\n",
    "result = smc.board_init(0, 1, \"COM3\", 115200)"
   ]
  },
  {
   "cell_type": "code",
   "execution_count": 31,
   "metadata": {},
   "outputs": [
    {
     "data": {
      "text/plain": [
       "0"
      ]
     },
     "execution_count": 31,
     "metadata": {},
     "output_type": "execute_result"
    }
   ],
   "source": [
    "#使能0轴\n",
    "smc.write_sevon_pin(0, 0, 0)"
   ]
  },
  {
   "cell_type": "code",
   "execution_count": 44,
   "metadata": {},
   "outputs": [
    {
     "data": {
      "text/plain": [
       "0"
      ]
     },
     "execution_count": 44,
     "metadata": {},
     "output_type": "execute_result"
    }
   ],
   "source": [
    "#关闭0轴\n",
    "smc.write_sevon_pin(0, 0, 1)   "
   ]
  },
  {
   "cell_type": "code",
   "execution_count": 4,
   "metadata": {},
   "outputs": [],
   "source": [
    "def home():    # 按指定的方向和速度方式开始回原点\n",
    "    smc.set_home_profile_unit(0,0,99,30000,1,1)\n",
    "    smc.set_home_position_unit(0,0,1,0)\n",
    "    smc.set_homemode(0,0,0,1,0,1)\n",
    "    smc.home_move(0,0)\n",
    "    smc.get_homemode(0,0)"
   ]
  },
  {
   "cell_type": "code",
   "execution_count": 36,
   "metadata": {},
   "outputs": [],
   "source": [
    "home()"
   ]
  },
  {
   "cell_type": "code",
   "execution_count": null,
   "metadata": {},
   "outputs": [],
   "source": [
    "#设置ptt运动参数,分十次\n",
    "ptime=[]\n",
    "ppos=[]\n",
    "for i in range(20):\n",
    "    ptime.append(i)\n",
    "    ppos.append(50000*i)\n",
    "#ptime=[1,2,3,4,5,6,7,8,9,10,11,12,13,]\n",
    "#ppos=[10000,20000,30000]\n",
    "smc.ptt_table_unit(0,0,20,ptime,ppos)"
   ]
  },
  {
   "cell_type": "code",
   "execution_count": null,
   "metadata": {},
   "outputs": [],
   "source": [
    "#设置ptt运动参数，从0运行到450000，再回到0\n",
    "ptime=[]\n",
    "ppos=[]\n",
    "for i in range(10):\n",
    "    ptime.append(2*i)\n",
    "    ppos.append(60000*i)\n",
    "for i in range(11):\n",
    "    ptime.append(20+2*i)\n",
    "    ppos.append(600000-60000*i)\n",
    "#ptime=[1,2,3,4,5,6,7,8,9,10,11,12,13,]\n",
    "#ppos=[10000,20000,30000]\n",
    "smc.ptt_table_unit(0,0,21,ptime,ppos)\n",
    "print(ptime,ppos)"
   ]
  },
  {
   "cell_type": "code",
   "execution_count": 7,
   "metadata": {},
   "outputs": [
    {
     "data": {
      "text/plain": [
       "0"
      ]
     },
     "execution_count": 7,
     "metadata": {},
     "output_type": "execute_result"
    }
   ],
   "source": [
    "ptime=[0,6]\n",
    "ppos=[0,500000]\n",
    "smc.ptt_table_unit(0,0,2,ptime,ppos)"
   ]
  },
  {
   "cell_type": "code",
   "execution_count": 10,
   "metadata": {},
   "outputs": [
    {
     "data": {
      "image/png": "[encoded data removed]",
      "text/plain": [
       "<Figure size 640x480 with 1 Axes>"
      ]
     },
     "metadata": {},
     "output_type": "display_data"
    }
   ],
   "source": [
    "smc.pvt_move(0,1,[0])\n",
    "plot_data(5000)"
   ]
  },
  {
   "cell_type": "code",
   "execution_count": 14,
   "metadata": {},
   "outputs": [
    {
     "data": {
      "text/plain": [
       "10010"
      ]
     },
     "execution_count": 14,
     "metadata": {},
     "output_type": "execute_result"
    }
   ],
   "source": [
    "smc.sine_oscillate_set_mode(0,0,0)\n",
    "#smc.sine_oscillate_get_mode(0,0)\n",
    "#smc.sine_oscillate_unit(0,0,10000,2)\n",
    "#plot_data()\n",
    "#smc.sine_oscillate_stop(0,0)"
   ]
  },
  {
   "cell_type": "code",
   "execution_count": null,
   "metadata": {},
   "outputs": [],
   "source": [
    "#设置ptt运动参数\n",
    "ptime=[]\n",
    "ppos=[]\n",
    "for i in range(20):\n",
    "    ptime.append(2*i)\n",
    "    if i%2:\n",
    "        ppos.append(600000)\n",
    "    else:\n",
    "        ppos.append(100000)\n",
    "ppos[0]=0\n",
    "print(ptime,ppos)"
   ]
  },
  {
   "cell_type": "code",
   "execution_count": null,
   "metadata": {},
   "outputs": [],
   "source": [
    "smc.ptt_table_unit(0,0,20,ptime,ppos)"
   ]
  },
  {
   "cell_type": "code",
   "execution_count": null,
   "metadata": {},
   "outputs": [],
   "source": [
    "#设置pts运动参数\n",
    "ptime=[0,1,2,3,4,5,6]\n",
    "ppos=[0,15000,65000,15000,65000,15000,650000]\n",
    "pper=[60,60,60,60,60,60,60]\n",
    "\n",
    "smc.pts_table_unit(0,0,7,ptime,ppos,pper)"
   ]
  },
  {
   "cell_type": "code",
   "execution_count": 8,
   "metadata": {},
   "outputs": [],
   "source": [
    "\n",
    "def plot_data(ms=1000):\n",
    "    x_time = []  # 毫秒级时间\n",
    "    y_position = []  # 位置数据\n",
    "    # 采集数据\n",
    "    start_time = time.time()\n",
    "    for _ in range(ms):  # 采集 100 个数据点\n",
    "        position = smc.get_position_unit(0, 0)[1]\n",
    "        # 获取当前时间（毫秒）\n",
    "        current_time = (time.time() - start_time) * 1000\n",
    "        x_time.append(current_time)\n",
    "        # 获取当前位置\n",
    "        y_position.append(position)\n",
    "        # 等待 10 毫秒\n",
    "        #time.sleep(0.01)\n",
    "\n",
    "    # 绘制图像\n",
    "    plt.plot(x_time, y_position, label=\"Position\")\n",
    "    plt.xlabel(\"Time (ms)\")\n",
    "    plt.ylabel(\"Position (unit)\")\n",
    "    plt.title(\"Position vs Time\")\n",
    "    plt.legend()\n",
    "    plt.grid(True)\n",
    "    plt.show()"
   ]
  },
  {
   "cell_type": "code",
   "execution_count": 7,
   "metadata": {},
   "outputs": [],
   "source": [
    "def plot_3data(ms):\n",
    "    # 初始化数据\n",
    "    x_time = []  # 毫秒级时间\n",
    "    y_position = []  # 位置数据\n",
    "    y_velocity = []  # 速度数据\n",
    "    y_acceleration = []  # 加速度数据\n",
    "\n",
    "    start_time = time.time()\n",
    "    for _ in range(ms):  # 采集 100 个数据点\n",
    "        # 获取当前位置\n",
    "        position = smc.get_position_unit(0, 0)[1]\n",
    "        # 获取当前时间（毫秒）\n",
    "        current_time = (time.time() - start_time) * 1000\n",
    "        x_time.append(current_time)\n",
    "        y_position.append(position)\n",
    "        # 等待 10 毫秒\n",
    "        #time.sleep(0.01)\n",
    "    # 计算速度（位置差分）\n",
    "    y_velocity = [0]  # 初始速度为 0\n",
    "    for i in range(1, len(x_time)):\n",
    "        delta_position = y_position[i] - y_position[i-1]\n",
    "        delta_time = x_time[i] - x_time[i-1]\n",
    "        velocity = delta_position / delta_time if delta_time != 0 else 0\n",
    "        y_velocity.append(velocity*10**6)\n",
    "\n",
    "    # 计算加速度（速度差分）\n",
    "    y_acceleration = [0]  # 初始加速度为 0\n",
    "    for i in range(1, len(x_time)):\n",
    "        delta_velocity = y_velocity[i] - y_velocity[i-1]\n",
    "        delta_time = x_time[i] - x_time[i-1]\n",
    "        acceleration = delta_velocity / delta_time if delta_time != 0 else 0\n",
    "        y_acceleration.append(acceleration*10**6)\n",
    "\n",
    "    # 绘制图像\n",
    "\n",
    "    plt.plot(x_time, y_velocity, label=\"velocity\")\n",
    "    plt.plot(x_time, y_acceleration, label=\"acceleration\")\n",
    "    plt.plot(x_time, y_position, label=\"Position\")\n",
    "    plt.xlabel(\"time(ms)\") \n",
    "    plt.ylabel(\"position,velocity,acceleration\")\n",
    "    plt.title(\"Position,velocity,acceleration vs Time\")\n",
    "    plt.legend()\n",
    "    plt.grid(True)\n",
    "    plt.show()\n",
    "    print(x_time)"
   ]
  },
  {
   "cell_type": "code",
   "execution_count": null,
   "metadata": {
    "scrolled": false
   },
   "outputs": [],
   "source": [
    "#开始PVT运动\n",
    "smc.pvt_move(0,1,[0])   \n",
    "plot_data(700)"
   ]
  },
  {
   "cell_type": "code",
   "execution_count": 14,
   "metadata": {},
   "outputs": [
    {
     "data": {
      "text/plain": [
       "0"
      ]
     },
     "execution_count": 14,
     "metadata": {},
     "output_type": "execute_result"
    }
   ],
   "source": [
    "smc.set_profile_unit(0,0,1,8000,0.1,0.1,2)"
   ]
  },
  {
   "cell_type": "code",
   "execution_count": 37,
   "metadata": {},
   "outputs": [
    {
     "data": {
      "text/plain": [
       "0"
      ]
     },
     "execution_count": 37,
     "metadata": {},
     "output_type": "execute_result"
    }
   ],
   "source": [
    "smc.write_sevon_pin(0,0,0)\n",
    "smc.vmove(0,0,1)"
   ]
  },
  {
   "cell_type": "code",
   "execution_count": 80,
   "metadata": {},
   "outputs": [
    {
     "name": "stdout",
     "output_type": "stream",
     "text": [
      "运行时间： 4.333333333333333 min\n",
      "已运行 0 次\n",
      "已运行 1 次\n",
      "已运行 2 次\n",
      "已运行 3 次\n",
      "已运行 4 次\n",
      "已运行 5 次\n",
      "已运行 6 次\n",
      "已运行 7 次\n",
      "已运行 8 次\n",
      "已运行 9 次\n",
      "已运行 10 次\n",
      "已运行 11 次\n",
      "已运行 12 次\n",
      "已运行 13 次\n",
      "已运行 14 次\n",
      "已运行 15 次\n",
      "已运行 16 次\n",
      "已运行 17 次\n",
      "已运行 18 次\n",
      "已运行 19 次\n",
      "已运行 20 次\n",
      "已运行 21 次\n",
      "已运行 22 次\n",
      "已运行 23 次\n",
      "已运行 24 次\n",
      "已运行 25 次\n",
      "运行结束\n"
     ]
    }
   ],
   "source": [
    "#定速往复运动\n",
    "#smc.write_sevon_pin(0,0,0)\n",
    "#home()\n",
    "smc.vmove(0,0,1)\n",
    "time.sleep(2)\n",
    "smc.stop(0,0,1)\n",
    "j=True\n",
    "print(\"运行时间：\",26*10/60,\"min\")\n",
    "\n",
    "for i in range(26):\n",
    "    if j:\n",
    "        smc.vmove(0,0,1)\n",
    "        j=False\n",
    "    else:\n",
    "        smc.vmove(0,0,0)\n",
    "        j=True\n",
    "    time.sleep(10)\n",
    "    print(\"已运行\",i,\"次\")\n",
    "    smc.stop(0,0,1)\n",
    "print(\"运行结束\")"
   ]
  },
  {
   "cell_type": "code",
   "execution_count": 43,
   "metadata": {},
   "outputs": [
    {
     "name": "stdout",
     "output_type": "stream",
     "text": [
      "24343 34\n"
     ]
    }
   ],
   "source": [
    "home()\n",
    "print(\"24343\",34)"
   ]
  },
  {
   "cell_type": "code",
   "execution_count": 21,
   "metadata": {},
   "outputs": [
    {
     "data": {
      "text/plain": [
       "0"
      ]
     },
     "execution_count": 21,
     "metadata": {},
     "output_type": "execute_result"
    }
   ],
   "source": [
    "#驱动器断电后运行保平安\n",
    "smc.stop(0,0,1)\n",
    "smc.write_sevon_pin(0,0,0)\n",
    "smc.stop(0,0,1)"
   ]
  },
  {
   "cell_type": "code",
   "execution_count": 52,
   "metadata": {},
   "outputs": [
    {
     "data": {
      "text/plain": [
       "0"
      ]
     },
     "execution_count": 52,
     "metadata": {},
     "output_type": "execute_result"
    }
   ],
   "source": [
    "smc.vmove(0,0,1)\n",
    "time.sleep(11)\n",
    "smc.stop(0,0,1)"
   ]
  },
  {
   "cell_type": "code",
   "execution_count": 33,
   "metadata": {},
   "outputs": [
    {
     "data": {
      "text/plain": [
       "(0, -30600.0)"
      ]
     },
     "execution_count": 33,
     "metadata": {},
     "output_type": "execute_result"
    }
   ],
   "source": [
    "#读取指令计数器值\n",
    "smc.get_position_unit(0,0)"
   ]
  },
  {
   "cell_type": "code",
   "execution_count": null,
   "metadata": {},
   "outputs": [],
   "source": [
    "#运行ram中的basic程序\n",
    "smc.basic_run(0)"
   ]
  },
  {
   "cell_type": "code",
   "execution_count": null,
   "metadata": {},
   "outputs": [],
   "source": [
    "#停止运行basic程序\n",
    "smc.basic_stop(0)"
   ]
  },
  {
   "cell_type": "code",
   "execution_count": 45,
   "metadata": {},
   "outputs": [
    {
     "data": {
      "text/plain": [
       "0"
      ]
     },
     "execution_count": 45,
     "metadata": {},
     "output_type": "execute_result"
    }
   ],
   "source": [
    "#断开0号控制器的连接\n",
    "smc.board_close(0)"
   ]
  },
  {
   "cell_type": "code",
   "execution_count": null,
   "metadata": {},
   "outputs": [],
   "source": []
  }
 ],
 "metadata": {
  "kernelspec": {
   "display_name": "QT6",
   "language": "python",
   "name": "qt6"
  },
  "language_info": {
   "codemirror_mode": {
    "name": "ipython",
    "version": 3
   },
   "file_extension": ".py",
   "mimetype": "text/x-python",
   "name": "python",
   "nbconvert_exporter": "python",
   "pygments_lexer": "ipython3",
   "version": "3.9.13"
  }
 },
 "nbformat": 4,
 "nbformat_minor": 2
}
